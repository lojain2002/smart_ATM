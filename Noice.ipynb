{
  "nbformat": 4,
  "nbformat_minor": 0,
  "metadata": {
    "colab": {
      "provenance": [],
      "authorship_tag": "ABX9TyMptB/HRsOnhbDxTOex8Ymw",
      "include_colab_link": true
    },
    "kernelspec": {
      "name": "python3",
      "display_name": "Python 3"
    },
    "language_info": {
      "name": "python"
    }
  },
  "cells": [
    {
      "cell_type": "markdown",
      "metadata": {
        "id": "view-in-github",
        "colab_type": "text"
      },
      "source": [
        "<a href=\"https://colab.research.google.com/github/lojain2002/smart_ATM/blob/main/Noice.ipynb\" target=\"_parent\"><img src=\"https://colab.research.google.com/assets/colab-badge.svg\" alt=\"Open In Colab\"/></a>"
      ]
    },
    {
      "cell_type": "code",
      "execution_count": null,
      "metadata": {
        "colab": {
          "base_uri": "https://localhost:8080/"
        },
        "id": "Ds55GUG1F9US",
        "outputId": "0e14c356-5055-4a5d-b24e-837ca9834b5d"
      },
      "outputs": [
        {
          "output_type": "stream",
          "name": "stdout",
          "text": [
            "Looking in indexes: https://pypi.org/simple, https://us-python.pkg.dev/colab-wheels/public/simple/\n",
            "Requirement already satisfied: cohere in /usr/local/lib/python3.10/dist-packages (4.5.1)\n",
            "Requirement already satisfied: aiohttp<4.0,>=3.0 in /usr/local/lib/python3.10/dist-packages (from cohere) (3.8.4)\n",
            "Requirement already satisfied: backoff<3.0,>=2.0 in /usr/local/lib/python3.10/dist-packages (from cohere) (2.2.1)\n",
            "Requirement already satisfied: requests<3.0,>=2.0 in /usr/local/lib/python3.10/dist-packages (from cohere) (2.27.1)\n",
            "Requirement already satisfied: attrs>=17.3.0 in /usr/local/lib/python3.10/dist-packages (from aiohttp<4.0,>=3.0->cohere) (23.1.0)\n",
            "Requirement already satisfied: charset-normalizer<4.0,>=2.0 in /usr/local/lib/python3.10/dist-packages (from aiohttp<4.0,>=3.0->cohere) (2.0.12)\n",
            "Requirement already satisfied: multidict<7.0,>=4.5 in /usr/local/lib/python3.10/dist-packages (from aiohttp<4.0,>=3.0->cohere) (6.0.4)\n",
            "Requirement already satisfied: async-timeout<5.0,>=4.0.0a3 in /usr/local/lib/python3.10/dist-packages (from aiohttp<4.0,>=3.0->cohere) (4.0.2)\n",
            "Requirement already satisfied: yarl<2.0,>=1.0 in /usr/local/lib/python3.10/dist-packages (from aiohttp<4.0,>=3.0->cohere) (1.9.2)\n",
            "Requirement already satisfied: frozenlist>=1.1.1 in /usr/local/lib/python3.10/dist-packages (from aiohttp<4.0,>=3.0->cohere) (1.3.3)\n",
            "Requirement already satisfied: aiosignal>=1.1.2 in /usr/local/lib/python3.10/dist-packages (from aiohttp<4.0,>=3.0->cohere) (1.3.1)\n",
            "Requirement already satisfied: urllib3<1.27,>=1.21.1 in /usr/local/lib/python3.10/dist-packages (from requests<3.0,>=2.0->cohere) (1.26.15)\n",
            "Requirement already satisfied: certifi>=2017.4.17 in /usr/local/lib/python3.10/dist-packages (from requests<3.0,>=2.0->cohere) (2022.12.7)\n",
            "Requirement already satisfied: idna<4,>=2.5 in /usr/local/lib/python3.10/dist-packages (from requests<3.0,>=2.0->cohere) (3.4)\n"
          ]
        }
      ],
      "source": [
        "! pip install cohere"
      ]
    },
    {
      "cell_type": "code",
      "source": [
        "from cohere.responses.classify import Example\n",
        "\n",
        "\n",
        "examples=[\n",
        "  #Example(\"How do I find my insurance policy?\", \"Finding policy details\"),\n",
        "  #Example(\"How do I download a copy of my insurance policy?\", \"Finding policy details\"),\n",
        "  #Example(\"How do I find my policy effective date?\", \"Finding policy details\"),\n",
        "  #Example(\"When does my insurance policy end?\", \"Finding policy details\"),\n",
        "  #Example(\"Could you please tell me the date my policy becomes effective?\", \"Finding policy details\"),\n",
        "  #Example(\"How do I sign up for electronic filing?\", \"Change account settings\"),\n",
        "  #Example(\"How do I change my policy?\", \"Change account settings\"),\n",
        "  #Example(\"How do I sign up for direct deposit?\", \"Change account settings\"),\n",
        "  #Example(\"I want direct deposit. Can you help with that?\", \"Change account settings\"),\n",
        "  \"how how transform to a robot\", \"how to toast a backbag\"\n",
        "  #Example(\"Could you deposit money into my account rather than mailing me a physical cheque?\", \"Change account settings\"),\n",
        "  #Example(\"How do I file an insurance claim?\", \"Filing a claim and viewing status\"),\n",
        "  #Example(\"How do I file a reimbursement claim?\", \"Filing a claim and viewing status\"),\n",
        "  #Example(\"How do I check my claim status?\", \"Filing a claim and viewing status\"),\n",
        "  #Example(\"When will my claim be reimbursed?\", \"Filing a claim and viewing status\"),\n",
        "  #Example(\"I filed my claim 2 weeks ago but I still haven’t received a deposit for it.\", \"Filing a claim and viewing status\"),\n",
        "  #Example(\"I want to cancel my policy immediately! This is nonsense.\", \"Cancelling coverage\"),\n",
        "  #Example(\"Could you please help my end my insurance coverage? Thank you.\",\n",
        "  #\"Cancelling coverage\"),\n",
        "  #Example(\"Your service sucks. I’m switching providers. Cancel my coverage.\", \"Cancelling coverage\"),\n",
        "  #Example(\"Hello there! How do I cancel my coverage?\", \"Cancelling coverage\"),\n",
        "  #Example(\"How do I delete my account?\", \"Cancelling coverage\")\n",
        "]\n"
      ],
      "metadata": {
        "id": "9iyqh2N7KkBR"
      },
      "execution_count": null,
      "outputs": []
    },
    {
      "cell_type": "code",
      "source": [
        "prompt = \"how how transform to a robot\""
      ],
      "metadata": {
        "id": "9Rd9zIYOKnvj"
      },
      "execution_count": null,
      "outputs": []
    },
    {
      "cell_type": "code",
      "source": [
        "import cohere  \n",
        "api_key = 'jp3UR4dv2UVIb4n6bl9M4b8iE8kack4RTp7HbD1n'\n",
        "co = cohere.Client(api_key)\n"
      ],
      "metadata": {
        "id": "XL0oq88aMlkW"
      },
      "execution_count": null,
      "outputs": []
    },
    {
      "cell_type": "code",
      "source": [
        "response = co.generate(  \n",
        "    model='command-nightly',  \n",
        "    prompt = prompt,  \n",
        "    max_tokens=200,  \n",
        "    temperature=0.750)\n",
        "  "
      ],
      "metadata": {
        "id": "WbVKA6pqKt-k"
      },
      "execution_count": null,
      "outputs": []
    },
    {
      "cell_type": "code",
      "source": [
        "intro_paragraph = response.generations[0].text"
      ],
      "metadata": {
        "id": "5dCGCf52Nt8m"
      },
      "execution_count": null,
      "outputs": []
    },
    {
      "cell_type": "code",
      "source": [
        "print(intro_paragraph)"
      ],
      "metadata": {
        "id": "ouJvsmuiN2ry",
        "colab": {
          "base_uri": "https://localhost:8080/"
        },
        "outputId": "32e1385d-bf92-4948-c926-4a6d6a808535"
      },
      "execution_count": null,
      "outputs": [
        {
          "output_type": "stream",
          "name": "stdout",
          "text": [
            "\n",
            "I'm sorry, but I am unable to transform into a robot. I am a humanoid robot designed to assist and collaborate with human beings, not transform into one.\n"
          ]
        }
      ]
    }
  ]
}